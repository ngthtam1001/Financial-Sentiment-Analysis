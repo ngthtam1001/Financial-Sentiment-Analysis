{
  "cells": [
    {
      "cell_type": "markdown",
      "metadata": {
        "id": "vHFXR_GIrTyE"
      },
      "source": [
        "# **Data selection & processing**\n"
      ]
    },
    {
      "cell_type": "code",
      "execution_count": null,
      "metadata": {},
      "outputs": [
        {
          "name": "stderr",
          "output_type": "stream",
          "text": [
            "c:\\Users\\admin\\anaconda3\\Lib\\site-packages\\datasets\\load.py:1486: FutureWarning: The repository for takala/financial_phrasebank contains custom code which must be executed to correctly load the dataset. You can inspect the repository content at https://hf.co/datasets/takala/financial_phrasebank\n",
            "You can avoid this message in future by passing the argument `trust_remote_code=True`.\n",
            "Passing `trust_remote_code=True` will be mandatory to load this dataset from the next major release of `datasets`.\n",
            "  warnings.warn(\n"
          ]
        },
        {
          "data": {
            "application/vnd.jupyter.widget-view+json": {
              "model_id": "c958d577592f43fcae2ce2b4128477db",
              "version_major": 2,
              "version_minor": 0
            },
            "text/plain": [
              "Downloading builder script: 0.00B [00:00, ?B/s]"
            ]
          },
          "metadata": {},
          "output_type": "display_data"
        },
        {
          "data": {
            "application/vnd.jupyter.widget-view+json": {
              "model_id": "f128a6d68cda4ab9a883092a393a7fd1",
              "version_major": 2,
              "version_minor": 0
            },
            "text/plain": [
              "Downloading readme: 0.00B [00:00, ?B/s]"
            ]
          },
          "metadata": {},
          "output_type": "display_data"
        },
        {
          "data": {
            "application/vnd.jupyter.widget-view+json": {
              "model_id": "75ba8642d67541698256f948c140af3e",
              "version_major": 2,
              "version_minor": 0
            },
            "text/plain": [
              "Downloading data:   0%|          | 0.00/682k [00:00<?, ?B/s]"
            ]
          },
          "metadata": {},
          "output_type": "display_data"
        },
        {
          "data": {
            "application/vnd.jupyter.widget-view+json": {
              "model_id": "0cfebfbe841841f0a5f57ecdbe86eac3",
              "version_major": 2,
              "version_minor": 0
            },
            "text/plain": [
              "Generating train split:   0%|          | 0/2264 [00:00<?, ? examples/s]"
            ]
          },
          "metadata": {},
          "output_type": "display_data"
        },
        {
          "name": "stdout",
          "output_type": "stream",
          "text": [
            "DatasetDict({\n",
            "    train: Dataset({\n",
            "        features: ['sentence', 'label'],\n",
            "        num_rows: 2264\n",
            "    })\n",
            "})\n"
          ]
        }
      ],
      "source": [
        "from datasets import load_dataset\n",
        "\n",
        "dataset = load_dataset(\"takala/financial_phrasebank\", \"sentences_allagree\")\n",
        "print(dataset)\n"
      ]
    },
    {
      "cell_type": "code",
      "execution_count": 2,
      "metadata": {},
      "outputs": [
        {
          "data": {
            "application/vnd.jupyter.widget-view+json": {
              "model_id": "4229aa6d91a54f11901e0419996151f5",
              "version_major": 2,
              "version_minor": 0
            },
            "text/plain": [
              "Creating CSV from Arrow format:   0%|          | 0/3 [00:00<?, ?ba/s]"
            ]
          },
          "metadata": {},
          "output_type": "display_data"
        },
        {
          "data": {
            "text/plain": [
              "287841"
            ]
          },
          "execution_count": 2,
          "metadata": {},
          "output_type": "execute_result"
        }
      ],
      "source": [
        "dataset[\"train\"].to_csv(\"financial_phrasebank_allagree.csv\", index=False)"
      ]
    },
    {
      "cell_type": "code",
      "execution_count": 24,
      "metadata": {
        "colab": {
          "base_uri": "https://localhost:8080/"
        },
        "id": "kEg_5OZQR8jf",
        "outputId": "15df3595-354f-4c23-fc44-8ea3302c808c"
      },
      "outputs": [
        {
          "name": "stderr",
          "output_type": "stream",
          "text": [
            "[nltk_data] Downloading package punkt to\n",
            "[nltk_data]     C:\\Users\\admin\\AppData\\Roaming\\nltk_data...\n",
            "[nltk_data]   Unzipping tokenizers\\punkt.zip.\n",
            "[nltk_data]   Unzipping tokenizers\\punkt.zip.\n",
            "[nltk_data] Downloading package stopwords to\n",
            "[nltk_data]     C:\\Users\\admin\\AppData\\Roaming\\nltk_data...\n",
            "[nltk_data]   Package stopwords is already up-to-date!\n",
            "[nltk_data] Downloading package stopwords to\n",
            "[nltk_data]     C:\\Users\\admin\\AppData\\Roaming\\nltk_data...\n",
            "[nltk_data]   Package stopwords is already up-to-date!\n"
          ]
        },
        {
          "data": {
            "text/plain": [
              "True"
            ]
          },
          "execution_count": 24,
          "metadata": {},
          "output_type": "execute_result"
        }
      ],
      "source": [
        "import pandas as pd\n",
        "import re\n",
        "import torch\n",
        "from nltk.tokenize import word_tokenize\n",
        "from nltk.corpus import stopwords\n",
        "from sklearn.model_selection import train_test_split\n",
        "from transformers import AutoTokenizer, AutoModelForSequenceClassification, pipeline\n",
        "import nltk\n",
        "nltk.download('punkt')\n",
        "nltk.download('stopwords')"
      ]
    },
    {
      "cell_type": "code",
      "execution_count": 16,
      "metadata": {
        "id": "hRv5c4CBHDEv"
      },
      "outputs": [
        {
          "data": {
            "text/html": [
              "<div>\n",
              "<style scoped>\n",
              "    .dataframe tbody tr th:only-of-type {\n",
              "        vertical-align: middle;\n",
              "    }\n",
              "\n",
              "    .dataframe tbody tr th {\n",
              "        vertical-align: top;\n",
              "    }\n",
              "\n",
              "    .dataframe thead th {\n",
              "        text-align: right;\n",
              "    }\n",
              "</style>\n",
              "<table border=\"1\" class=\"dataframe\">\n",
              "  <thead>\n",
              "    <tr style=\"text-align: right;\">\n",
              "      <th></th>\n",
              "      <th>text</th>\n",
              "      <th>label</th>\n",
              "    </tr>\n",
              "  </thead>\n",
              "  <tbody>\n",
              "    <tr>\n",
              "      <th>0</th>\n",
              "      <td>According to Gran , the company has no plans t...</td>\n",
              "      <td>1</td>\n",
              "    </tr>\n",
              "    <tr>\n",
              "      <th>1</th>\n",
              "      <td>For the last quarter of 2010 , Componenta 's n...</td>\n",
              "      <td>2</td>\n",
              "    </tr>\n",
              "    <tr>\n",
              "      <th>2</th>\n",
              "      <td>In the third quarter of 2010 , net sales incre...</td>\n",
              "      <td>2</td>\n",
              "    </tr>\n",
              "    <tr>\n",
              "      <th>3</th>\n",
              "      <td>Operating profit rose to EUR 13.1 mn from EUR ...</td>\n",
              "      <td>2</td>\n",
              "    </tr>\n",
              "    <tr>\n",
              "      <th>4</th>\n",
              "      <td>Operating profit totalled EUR 21.1 mn , up fro...</td>\n",
              "      <td>2</td>\n",
              "    </tr>\n",
              "  </tbody>\n",
              "</table>\n",
              "</div>"
            ],
            "text/plain": [
              "                                                text  label\n",
              "0  According to Gran , the company has no plans t...      1\n",
              "1  For the last quarter of 2010 , Componenta 's n...      2\n",
              "2  In the third quarter of 2010 , net sales incre...      2\n",
              "3  Operating profit rose to EUR 13.1 mn from EUR ...      2\n",
              "4  Operating profit totalled EUR 21.1 mn , up fro...      2"
            ]
          },
          "execution_count": 16,
          "metadata": {},
          "output_type": "execute_result"
        }
      ],
      "source": [
        "data = pd.read_csv(\"financial_phrasebank_allagree.csv\", encoding='latin1')\n",
        "data = data.rename(columns={'sentence': 'text'})\n",
        "data.head()"
      ]
    },
    {
      "cell_type": "code",
      "execution_count": 12,
      "metadata": {},
      "outputs": [],
      "source": [
        "def process_text(text):\n",
        "  text = text.lower()\n",
        "  text = re.sub(r'[^\\w\\s]', '', text)\n",
        "  tokens = word_tokenize(text)\n",
        "  stop_words = set(stopwords.words('english'))\n",
        "  filtered_tokens = [word for word in tokens if word not in stop_words]\n",
        "  processed_text = ' '.join(filtered_tokens)\n",
        "  return processed_text\n",
        "\n",
        "def prepare_data(data):\n",
        "    data['text'] = data['text'].apply(process_text)\n",
        "    train_data, test_data = train_test_split(data, test_size=0.2, random_state=42)\n",
        "    return train_data, test_data"
      ]
    },
    {
      "cell_type": "markdown",
      "metadata": {
        "id": "PB7f57Lqh-lC"
      },
      "source": [
        "# **Bert-based models and prompting techniques**"
      ]
    },
    {
      "cell_type": "code",
      "execution_count": 17,
      "metadata": {
        "id": "7IlKL7DM3Doy"
      },
      "outputs": [],
      "source": [
        "def load_model(model_name):\n",
        "    print(f\"Loading {model_name}...\")\n",
        "    tokenizer = AutoTokenizer.from_pretrained(model_name)\n",
        "    model = AutoModelForSequenceClassification.from_pretrained(model_name)\n",
        "    device = 'cuda' if torch.cuda.is_available() else 'cpu'\n",
        "    model = model.to(device)\n",
        "    return pipeline(\"sentiment-analysis\",\n",
        "                   model=model,\n",
        "                   tokenizer=tokenizer,\n",
        "                   device=0 if device == 'cuda' else -1)"
      ]
    },
    {
      "cell_type": "code",
      "execution_count": 18,
      "metadata": {
        "id": "4CdhTTUw4rG_"
      },
      "outputs": [],
      "source": [
        "def create_prompt(text, method):\n",
        "    prompts = {\n",
        "        \"zero-shot\": f\"Classify the sentiment of the following statement: \\n\\\"{text}\\\"\\nAnswer as Positive, Negative, or Neutral.\",\n",
        "        \"few-shot\": f\"Classify the sentiment of these statements:\\n1. \\\"The revenue increased significantly.\\\" -> Positive\\n2. \\\"Operational losses reduced profit.\\\" -> Negative\\n3. \\\"Earnings were stable.\\\" -> Neutral\\nNow classify:\\n\\\"{text}\\\"\",\n",
        "        \"chain-of-thought\": f\"Analyze step-by-step:\\n\\\"{text}\\\"\\nStep 1: Identify key phrases.\\nStep 2: Evaluate impact.\\nStep 3: Classify as Positive, Negative, or Neutral.\",\n",
        "        \"instruction\": f\"You are a financial sentiment expert. Classify this statement:\\n\\\"{text}\\\"\\nExplain reasoning.\",\n",
        "        \"contrastive\": f\"Compare with examples:\\n1. \\\"Revenue grew 20%.\\\" -> Positive\\n2. \\\"Losses led to decline.\\\" -> Negative\\nClassify:\\n\\\"{text}\\\"\",\n",
        "    }\n",
        "    return prompts.get(method, f\"Invalid method: {method}\")"
      ]
    },
    {
      "cell_type": "code",
      "execution_count": 19,
      "metadata": {
        "id": "-vdPPVvy42nf"
      },
      "outputs": [],
      "source": [
        "def predict_sentiment(classifier, texts, method, batch_size=32):\n",
        "    results = []\n",
        "    for i in range(0, len(texts), batch_size):\n",
        "        batch = texts[i:i+batch_size]\n",
        "        batch_prompts = [create_prompt(text, method) for text in batch]\n",
        "        batch_results = classifier(batch_prompts)\n",
        "        results.extend(batch_results)\n",
        "    return results"
      ]
    },
    {
      "cell_type": "code",
      "execution_count": 20,
      "metadata": {
        "id": "12A3kMALOylN"
      },
      "outputs": [],
      "source": [
        "def evaluate_predictions(predictions, true_labels):\n",
        "    results = {\n",
        "        \"predictions\": predictions,\n",
        "        \"accuracy\": 0,\n",
        "    }\n",
        "\n",
        "    correct = 0\n",
        "    pred_labels = []\n",
        "    for pred, true in zip(predictions, true_labels):\n",
        "        pred_label = 2 if pred['label'].upper() in ['POSITIVE', 'LABEL_2'] else \\\n",
        "                    (0 if pred['label'].upper() in ['NEGATIVE', 'LABEL_0'] else 1)\n",
        "        pred_labels.append(pred_label)\n",
        "        if pred_label == true:\n",
        "            correct += 1\n",
        "\n",
        "    results[\"accuracy\"] = correct / len(true_labels)\n",
        "    return results"
      ]
    },
    {
      "cell_type": "code",
      "execution_count": 21,
      "metadata": {
        "id": "-vqU2enPPJYW"
      },
      "outputs": [],
      "source": [
        "def run_experiments(train_data, test_data):\n",
        "    \"\"\"Run experiments with multiple models and methods\"\"\"\n",
        "    models = {\n",
        "        \"finbert\": \"ProsusAI/finbert\",\n",
        "        \"finbert-tone\": \"yiyanghkust/finbert-tone\",\n",
        "        \"financial-bert\": \"ahmedrachid/FinancialBERT\",\n",
        "        \"roberta-financial\": \"mrm8488/distilroberta-finetuned-financial-news-sentiment-analysis\"\n",
        "    }\n",
        "\n",
        "    methods = [\"zero-shot\", \"few-shot\", \"chain-of-thought\",\"instruction\",\"contrastive\"]\n",
        "    results = {}\n",
        "\n",
        "    for model_name, model_path in models.items():\n",
        "        print(f\"\\nEvaluating {model_name}\")\n",
        "        classifier = load_model(model_path)\n",
        "\n",
        "        for method in methods:\n",
        "            print(f\"\\nTesting with {method}\")\n",
        "            predictions = predict_sentiment(\n",
        "                classifier,\n",
        "                test_data['text'].tolist(),\n",
        "                method\n",
        "            )\n",
        "\n",
        "            eval_results = evaluate_predictions(predictions, test_data['label'].values)\n",
        "            results[f\"{model_name}_{method}\"] = eval_results\n",
        "\n",
        "            print(f\"Accuracy: {eval_results['accuracy']:.4f}\")\n",
        "    return results\n"
      ]
    },
    {
      "cell_type": "markdown",
      "metadata": {
        "id": "ZcUqHzyXiQqM"
      },
      "source": [
        "# **Evaluation and comparision**"
      ]
    },
    {
      "cell_type": "code",
      "execution_count": 25,
      "metadata": {
        "colab": {
          "background_save": true,
          "base_uri": "https://localhost:8080/",
          "height": 773,
          "referenced_widgets": [
            "eec696daf77b4d5089e85b6ec471088a",
            "209986b3cb5b4df7888737ae5187a406",
            "652853730eaa495ca67b9e01643247a7",
            "74d3e446f53d413294d01ba903b49a2f",
            "03477531be9b4deab0f2bcd729df9997",
            "279a6cf535254d54867f69a7b6a38a3d",
            "e0780249d6ca486d9915f3d84a4020f4",
            "830444abdda44c4f92ecaf95820a0234",
            "6acb932ea8da49f88ff9f563b9d9affb",
            "8d9201abddbd46b7b8078af3fa5fbbec",
            "95f45bfecd3f4b5f8d818762dca29977",
            "2c41dad34be54152aeaa4049ca10bbf9",
            "71340e8ce0f1443a89a20613ab5e700f",
            "b097c5cf8138466eb33aa68153495265",
            "260c5acee02545a1a7d5a98fa84d1ec5",
            "b3b58d32ae2e418a9e8840e90496e51f",
            "87aa38464e0746b1833e5a2ddbabf015",
            "15e8a13094fd4e4fbd993bf1c848ad5f",
            "4ac86b00c2ae46d68cb51dcd02699a59",
            "6b5c831986334ba994b56098a0dc8791",
            "6499e6fc6a694fbc8985ae81e6561342",
            "d4da79b8fed94d1d86c4c7ee64b48ae1",
            "7399e953e1d1497788737aaf91f792ea",
            "f68872567ec8461bb51f148b2394e24b",
            "0a557091d9104a9a8ff092fe598a7e67",
            "a449dbeb4f31448a94cac07c285756e4",
            "3db97dad5d364f088df6b3864461a91c",
            "13b9123d392d44acac9d080057a8118c",
            "cf46ab5749bc4e69a6d7f4610511d0ab",
            "f9922b1c0267448a985e7f8d1a26ea2c",
            "f05a914081d14838b5696fb36afe2cf8",
            "d795fbc323e34c1eb0d1fb9a36be201f",
            "ee214f4df9a34837a69059d23a4fedc0",
            "e841ce578a034ac1b38535aa16c08271",
            "255c19c5f3a84c44bcfed7565b9556b2",
            "fe654f868f764a2f9255940723ebc0bf",
            "0090ed570d374730a692bda9d326f3e1",
            "d81f7a2298ec42d9befaaeb06a5afac5",
            "2bac82a9fd8e45a08ce43b47d890a6f2"
          ]
        },
        "id": "uW6nKad7RPh4",
        "outputId": "d0eca895-fb15-4e06-e7f6-bf12735a459e"
      },
      "outputs": [
        {
          "name": "stdout",
          "output_type": "stream",
          "text": [
            "Loading and preparing data...\n",
            "\n",
            "Running experiments...\n",
            "\n",
            "Evaluating finbert\n",
            "Loading ProsusAI/finbert...\n",
            "\n",
            "Running experiments...\n",
            "\n",
            "Evaluating finbert\n",
            "Loading ProsusAI/finbert...\n"
          ]
        },
        {
          "data": {
            "application/vnd.jupyter.widget-view+json": {
              "model_id": "fb809ed6eae54f65a6f09a9b6892c9ba",
              "version_major": 2,
              "version_minor": 0
            },
            "text/plain": [
              "tokenizer_config.json:   0%|          | 0.00/252 [00:00<?, ?B/s]"
            ]
          },
          "metadata": {},
          "output_type": "display_data"
        },
        {
          "name": "stderr",
          "output_type": "stream",
          "text": [
            "c:\\Users\\admin\\anaconda3\\Lib\\site-packages\\huggingface_hub\\file_download.py:159: UserWarning: `huggingface_hub` cache-system uses symlinks by default to efficiently store duplicated files but your machine does not support them in C:\\Users\\admin\\.cache\\huggingface\\hub\\models--ProsusAI--finbert. Caching files will still work but in a degraded version that might require more space on your disk. This warning can be disabled by setting the `HF_HUB_DISABLE_SYMLINKS_WARNING` environment variable. For more details, see https://huggingface.co/docs/huggingface_hub/how-to-cache#limitations.\n",
            "To support symlinks on Windows, you either need to activate Developer Mode or to run Python as an administrator. In order to see activate developer mode, see this article: https://docs.microsoft.com/en-us/windows/apps/get-started/enable-your-device-for-development\n",
            "  warnings.warn(message)\n"
          ]
        },
        {
          "data": {
            "application/vnd.jupyter.widget-view+json": {
              "model_id": "d32cab69e9a046f8a6cd88d70d1c5a13",
              "version_major": 2,
              "version_minor": 0
            },
            "text/plain": [
              "config.json:   0%|          | 0.00/758 [00:00<?, ?B/s]"
            ]
          },
          "metadata": {},
          "output_type": "display_data"
        },
        {
          "data": {
            "application/vnd.jupyter.widget-view+json": {
              "model_id": "6aa04d5ddb374b149d100af2231726d8",
              "version_major": 2,
              "version_minor": 0
            },
            "text/plain": [
              "vocab.txt: 0.00B [00:00, ?B/s]"
            ]
          },
          "metadata": {},
          "output_type": "display_data"
        },
        {
          "data": {
            "application/vnd.jupyter.widget-view+json": {
              "model_id": "2dc3e13b892c4a628e0d8a92869c07ef",
              "version_major": 2,
              "version_minor": 0
            },
            "text/plain": [
              "special_tokens_map.json:   0%|          | 0.00/112 [00:00<?, ?B/s]"
            ]
          },
          "metadata": {},
          "output_type": "display_data"
        },
        {
          "data": {
            "application/vnd.jupyter.widget-view+json": {
              "model_id": "fff959fc7d1441f2977beb793a9b2a40",
              "version_major": 2,
              "version_minor": 0
            },
            "text/plain": [
              "pytorch_model.bin:   0%|          | 0.00/438M [00:00<?, ?B/s]"
            ]
          },
          "metadata": {},
          "output_type": "display_data"
        },
        {
          "name": "stdout",
          "output_type": "stream",
          "text": [
            "\n",
            "Testing with zero-shot\n"
          ]
        },
        {
          "name": "stderr",
          "output_type": "stream",
          "text": [
            "You seem to be using the pipelines sequentially on GPU. In order to maximize efficiency please use a dataset\n"
          ]
        },
        {
          "name": "stdout",
          "output_type": "stream",
          "text": [
            "Accuracy: 0.7219\n",
            "\n",
            "Testing with few-shot\n",
            "Accuracy: 0.3797\n",
            "\n",
            "Testing with chain-of-thought\n",
            "Accuracy: 0.3797\n",
            "\n",
            "Testing with chain-of-thought\n",
            "Accuracy: 0.6291\n",
            "\n",
            "Testing with instruction\n",
            "Accuracy: 0.6291\n",
            "\n",
            "Testing with instruction\n",
            "Accuracy: 0.7351\n",
            "\n",
            "Testing with contrastive\n",
            "Accuracy: 0.7351\n",
            "\n",
            "Testing with contrastive\n",
            "Accuracy: 0.3642\n",
            "\n",
            "Evaluating finbert-tone\n",
            "Loading yiyanghkust/finbert-tone...\n",
            "Accuracy: 0.3642\n",
            "\n",
            "Evaluating finbert-tone\n",
            "Loading yiyanghkust/finbert-tone...\n"
          ]
        },
        {
          "data": {
            "application/vnd.jupyter.widget-view+json": {
              "model_id": "7e38295738ae403eadf37a76b02a0340",
              "version_major": 2,
              "version_minor": 0
            },
            "text/plain": [
              "config.json:   0%|          | 0.00/533 [00:00<?, ?B/s]"
            ]
          },
          "metadata": {},
          "output_type": "display_data"
        },
        {
          "name": "stderr",
          "output_type": "stream",
          "text": [
            "c:\\Users\\admin\\anaconda3\\Lib\\site-packages\\huggingface_hub\\file_download.py:159: UserWarning: `huggingface_hub` cache-system uses symlinks by default to efficiently store duplicated files but your machine does not support them in C:\\Users\\admin\\.cache\\huggingface\\hub\\models--yiyanghkust--finbert-tone. Caching files will still work but in a degraded version that might require more space on your disk. This warning can be disabled by setting the `HF_HUB_DISABLE_SYMLINKS_WARNING` environment variable. For more details, see https://huggingface.co/docs/huggingface_hub/how-to-cache#limitations.\n",
            "To support symlinks on Windows, you either need to activate Developer Mode or to run Python as an administrator. In order to see activate developer mode, see this article: https://docs.microsoft.com/en-us/windows/apps/get-started/enable-your-device-for-development\n",
            "  warnings.warn(message)\n"
          ]
        },
        {
          "data": {
            "application/vnd.jupyter.widget-view+json": {
              "model_id": "3cbb7565bfad40869d55b13fc119451f",
              "version_major": 2,
              "version_minor": 0
            },
            "text/plain": [
              "vocab.txt: 0.00B [00:00, ?B/s]"
            ]
          },
          "metadata": {},
          "output_type": "display_data"
        },
        {
          "data": {
            "application/vnd.jupyter.widget-view+json": {
              "model_id": "688e7a04fabb4670a2fa5e7932f5137a",
              "version_major": 2,
              "version_minor": 0
            },
            "text/plain": [
              "pytorch_model.bin:   0%|          | 0.00/439M [00:00<?, ?B/s]"
            ]
          },
          "metadata": {},
          "output_type": "display_data"
        },
        {
          "name": "stdout",
          "output_type": "stream",
          "text": [
            "\n",
            "Testing with zero-shot\n",
            "Accuracy: 0.5011\n",
            "\n",
            "Testing with few-shot\n",
            "Accuracy: 0.5011\n",
            "\n",
            "Testing with few-shot\n",
            "Accuracy: 0.2737\n",
            "\n",
            "Testing with chain-of-thought\n",
            "Accuracy: 0.2737\n",
            "\n",
            "Testing with chain-of-thought\n",
            "Accuracy: 0.6358\n",
            "\n",
            "Testing with instruction\n",
            "Accuracy: 0.6358\n",
            "\n",
            "Testing with instruction\n",
            "Accuracy: 0.7638\n",
            "\n",
            "Testing with contrastive\n",
            "Accuracy: 0.7638\n",
            "\n",
            "Testing with contrastive\n",
            "Accuracy: 0.3157\n",
            "\n",
            "Evaluating financial-bert\n",
            "Loading ahmedrachid/FinancialBERT...\n",
            "Accuracy: 0.3157\n",
            "\n",
            "Evaluating financial-bert\n",
            "Loading ahmedrachid/FinancialBERT...\n"
          ]
        },
        {
          "data": {
            "application/vnd.jupyter.widget-view+json": {
              "model_id": "06fabb060a254f4d8b02b78b70a4c675",
              "version_major": 2,
              "version_minor": 0
            },
            "text/plain": [
              "tokenizer_config.json:   0%|          | 0.00/324 [00:00<?, ?B/s]"
            ]
          },
          "metadata": {},
          "output_type": "display_data"
        },
        {
          "name": "stderr",
          "output_type": "stream",
          "text": [
            "c:\\Users\\admin\\anaconda3\\Lib\\site-packages\\huggingface_hub\\file_download.py:159: UserWarning: `huggingface_hub` cache-system uses symlinks by default to efficiently store duplicated files but your machine does not support them in C:\\Users\\admin\\.cache\\huggingface\\hub\\models--ahmedrachid--FinancialBERT. Caching files will still work but in a degraded version that might require more space on your disk. This warning can be disabled by setting the `HF_HUB_DISABLE_SYMLINKS_WARNING` environment variable. For more details, see https://huggingface.co/docs/huggingface_hub/how-to-cache#limitations.\n",
            "To support symlinks on Windows, you either need to activate Developer Mode or to run Python as an administrator. In order to see activate developer mode, see this article: https://docs.microsoft.com/en-us/windows/apps/get-started/enable-your-device-for-development\n",
            "  warnings.warn(message)\n"
          ]
        },
        {
          "data": {
            "application/vnd.jupyter.widget-view+json": {
              "model_id": "f80a6a148423415885e100770f0bb516",
              "version_major": 2,
              "version_minor": 0
            },
            "text/plain": [
              "vocab.txt: 0.00B [00:00, ?B/s]"
            ]
          },
          "metadata": {},
          "output_type": "display_data"
        },
        {
          "data": {
            "application/vnd.jupyter.widget-view+json": {
              "model_id": "90e4a08c0a25485f8966abbb313d51f9",
              "version_major": 2,
              "version_minor": 0
            },
            "text/plain": [
              "tokenizer.json: 0.00B [00:00, ?B/s]"
            ]
          },
          "metadata": {},
          "output_type": "display_data"
        },
        {
          "data": {
            "application/vnd.jupyter.widget-view+json": {
              "model_id": "0464e7120a584f04ac04ed7094aca1c2",
              "version_major": 2,
              "version_minor": 0
            },
            "text/plain": [
              "special_tokens_map.json:   0%|          | 0.00/112 [00:00<?, ?B/s]"
            ]
          },
          "metadata": {},
          "output_type": "display_data"
        },
        {
          "data": {
            "application/vnd.jupyter.widget-view+json": {
              "model_id": "c8bec59b03074ae09abaef5f4578724a",
              "version_major": 2,
              "version_minor": 0
            },
            "text/plain": [
              "config.json:   0%|          | 0.00/589 [00:00<?, ?B/s]"
            ]
          },
          "metadata": {},
          "output_type": "display_data"
        },
        {
          "data": {
            "application/vnd.jupyter.widget-view+json": {
              "model_id": "e10d001a31ef49b3985a22e76c15c344",
              "version_major": 2,
              "version_minor": 0
            },
            "text/plain": [
              "pytorch_model.bin:   0%|          | 0.00/439M [00:00<?, ?B/s]"
            ]
          },
          "metadata": {},
          "output_type": "display_data"
        },
        {
          "name": "stderr",
          "output_type": "stream",
          "text": [
            "Some weights of BertForSequenceClassification were not initialized from the model checkpoint at ahmedrachid/FinancialBERT and are newly initialized: ['bert.pooler.dense.bias', 'bert.pooler.dense.weight', 'classifier.bias', 'classifier.weight']\n",
            "You should probably TRAIN this model on a down-stream task to be able to use it for predictions and inference.\n"
          ]
        },
        {
          "name": "stdout",
          "output_type": "stream",
          "text": [
            "\n",
            "Testing with zero-shot\n",
            "Accuracy: 0.1678\n",
            "\n",
            "Testing with few-shot\n",
            "Accuracy: 0.1678\n",
            "\n",
            "Testing with few-shot\n",
            "Accuracy: 0.4547\n",
            "\n",
            "Testing with chain-of-thought\n",
            "Accuracy: 0.4547\n",
            "\n",
            "Testing with chain-of-thought\n",
            "Accuracy: 0.4216\n",
            "\n",
            "Testing with instruction\n",
            "Accuracy: 0.4216\n",
            "\n",
            "Testing with instruction\n",
            "Accuracy: 0.1391\n",
            "\n",
            "Testing with contrastive\n",
            "Accuracy: 0.1391\n",
            "\n",
            "Testing with contrastive\n",
            "Accuracy: 0.6093\n",
            "\n",
            "Evaluating roberta-financial\n",
            "Loading mrm8488/distilroberta-finetuned-financial-news-sentiment-analysis...\n",
            "Accuracy: 0.6093\n",
            "\n",
            "Evaluating roberta-financial\n",
            "Loading mrm8488/distilroberta-finetuned-financial-news-sentiment-analysis...\n"
          ]
        },
        {
          "data": {
            "application/vnd.jupyter.widget-view+json": {
              "model_id": "c2b3af4b92f74f71a6f63638e241e5c9",
              "version_major": 2,
              "version_minor": 0
            },
            "text/plain": [
              "tokenizer_config.json:   0%|          | 0.00/333 [00:00<?, ?B/s]"
            ]
          },
          "metadata": {},
          "output_type": "display_data"
        },
        {
          "name": "stderr",
          "output_type": "stream",
          "text": [
            "c:\\Users\\admin\\anaconda3\\Lib\\site-packages\\huggingface_hub\\file_download.py:159: UserWarning: `huggingface_hub` cache-system uses symlinks by default to efficiently store duplicated files but your machine does not support them in C:\\Users\\admin\\.cache\\huggingface\\hub\\models--mrm8488--distilroberta-finetuned-financial-news-sentiment-analysis. Caching files will still work but in a degraded version that might require more space on your disk. This warning can be disabled by setting the `HF_HUB_DISABLE_SYMLINKS_WARNING` environment variable. For more details, see https://huggingface.co/docs/huggingface_hub/how-to-cache#limitations.\n",
            "To support symlinks on Windows, you either need to activate Developer Mode or to run Python as an administrator. In order to see activate developer mode, see this article: https://docs.microsoft.com/en-us/windows/apps/get-started/enable-your-device-for-development\n",
            "  warnings.warn(message)\n"
          ]
        },
        {
          "data": {
            "application/vnd.jupyter.widget-view+json": {
              "model_id": "a631ae85efed4c8ebcd69646da224eb9",
              "version_major": 2,
              "version_minor": 0
            },
            "text/plain": [
              "vocab.json: 0.00B [00:00, ?B/s]"
            ]
          },
          "metadata": {},
          "output_type": "display_data"
        },
        {
          "data": {
            "application/vnd.jupyter.widget-view+json": {
              "model_id": "ee01d1b43bc6471398e9bc7ed033ec36",
              "version_major": 2,
              "version_minor": 0
            },
            "text/plain": [
              "merges.txt: 0.00B [00:00, ?B/s]"
            ]
          },
          "metadata": {},
          "output_type": "display_data"
        },
        {
          "data": {
            "application/vnd.jupyter.widget-view+json": {
              "model_id": "864ac01933814d3d933d73af40353dd1",
              "version_major": 2,
              "version_minor": 0
            },
            "text/plain": [
              "tokenizer.json: 0.00B [00:00, ?B/s]"
            ]
          },
          "metadata": {},
          "output_type": "display_data"
        },
        {
          "data": {
            "application/vnd.jupyter.widget-view+json": {
              "model_id": "407efec365144b45bb7cc25e1c129f1e",
              "version_major": 2,
              "version_minor": 0
            },
            "text/plain": [
              "special_tokens_map.json:   0%|          | 0.00/239 [00:00<?, ?B/s]"
            ]
          },
          "metadata": {},
          "output_type": "display_data"
        },
        {
          "data": {
            "application/vnd.jupyter.widget-view+json": {
              "model_id": "22d9423000224fe28b8a6392288c21ac",
              "version_major": 2,
              "version_minor": 0
            },
            "text/plain": [
              "config.json:   0%|          | 0.00/933 [00:00<?, ?B/s]"
            ]
          },
          "metadata": {},
          "output_type": "display_data"
        },
        {
          "data": {
            "application/vnd.jupyter.widget-view+json": {
              "model_id": "d417b36cae4341feb972df1537f77f3a",
              "version_major": 2,
              "version_minor": 0
            },
            "text/plain": [
              "model.safetensors:   0%|          | 0.00/328M [00:00<?, ?B/s]"
            ]
          },
          "metadata": {},
          "output_type": "display_data"
        },
        {
          "name": "stdout",
          "output_type": "stream",
          "text": [
            "\n",
            "Testing with zero-shot\n",
            "Accuracy: 0.9139\n",
            "\n",
            "Testing with few-shot\n",
            "Accuracy: 0.9139\n",
            "\n",
            "Testing with few-shot\n",
            "Accuracy: 0.2671\n",
            "\n",
            "Testing with chain-of-thought\n",
            "Accuracy: 0.2671\n",
            "\n",
            "Testing with chain-of-thought\n",
            "Accuracy: 0.8962\n",
            "\n",
            "Testing with instruction\n",
            "Accuracy: 0.8962\n",
            "\n",
            "Testing with instruction\n",
            "Accuracy: 0.9095\n",
            "\n",
            "Testing with contrastive\n",
            "Accuracy: 0.9095\n",
            "\n",
            "Testing with contrastive\n",
            "Accuracy: 0.3245\n",
            "\n",
            "Final Results:\n",
            "finbert_zero-shot: 0.7219\n",
            "finbert_few-shot: 0.3797\n",
            "finbert_chain-of-thought: 0.6291\n",
            "finbert_instruction: 0.7351\n",
            "finbert_contrastive: 0.3642\n",
            "finbert-tone_zero-shot: 0.5011\n",
            "finbert-tone_few-shot: 0.2737\n",
            "finbert-tone_chain-of-thought: 0.6358\n",
            "finbert-tone_instruction: 0.7638\n",
            "finbert-tone_contrastive: 0.3157\n",
            "financial-bert_zero-shot: 0.1678\n",
            "financial-bert_few-shot: 0.4547\n",
            "financial-bert_chain-of-thought: 0.4216\n",
            "financial-bert_instruction: 0.1391\n",
            "financial-bert_contrastive: 0.6093\n",
            "roberta-financial_zero-shot: 0.9139\n",
            "roberta-financial_few-shot: 0.2671\n",
            "roberta-financial_chain-of-thought: 0.8962\n",
            "roberta-financial_instruction: 0.9095\n",
            "roberta-financial_contrastive: 0.3245\n",
            "Accuracy: 0.3245\n",
            "\n",
            "Final Results:\n",
            "finbert_zero-shot: 0.7219\n",
            "finbert_few-shot: 0.3797\n",
            "finbert_chain-of-thought: 0.6291\n",
            "finbert_instruction: 0.7351\n",
            "finbert_contrastive: 0.3642\n",
            "finbert-tone_zero-shot: 0.5011\n",
            "finbert-tone_few-shot: 0.2737\n",
            "finbert-tone_chain-of-thought: 0.6358\n",
            "finbert-tone_instruction: 0.7638\n",
            "finbert-tone_contrastive: 0.3157\n",
            "financial-bert_zero-shot: 0.1678\n",
            "financial-bert_few-shot: 0.4547\n",
            "financial-bert_chain-of-thought: 0.4216\n",
            "financial-bert_instruction: 0.1391\n",
            "financial-bert_contrastive: 0.6093\n",
            "roberta-financial_zero-shot: 0.9139\n",
            "roberta-financial_few-shot: 0.2671\n",
            "roberta-financial_chain-of-thought: 0.8962\n",
            "roberta-financial_instruction: 0.9095\n",
            "roberta-financial_contrastive: 0.3245\n"
          ]
        }
      ],
      "source": [
        "if __name__ == \"__main__\":\n",
        "    print(\"Loading and preparing data...\")\n",
        "    train_data, test_data = prepare_data(data)\n",
        "\n",
        "    print(\"\\nRunning experiments...\")\n",
        "    results = run_experiments(train_data, test_data)\n",
        "\n",
        "    print(\"\\nFinal Results:\")\n",
        "    for exp, res in results.items():\n",
        "        print(f\"{exp}: {res['accuracy']:.4f}\")\n"
      ]
    },
    {
      "cell_type": "markdown",
      "metadata": {
        "id": "F2qvncwbiZVA"
      },
      "source": [
        "# **Improvements**"
      ]
    },
    {
      "cell_type": "code",
      "execution_count": 26,
      "metadata": {
        "id": "y2IiDbNIiZrt"
      },
      "outputs": [],
      "source": [
        "def create_instruction_prompt(text, version=\"base\"):\n",
        "    prompts = {\n",
        "        \"base\": f\"You are a financial sentiment expert. Classify this statement:\\n\\\"{text}\\\"\\nExplain reasoning.\",\n",
        "\n",
        "        \"detailed\": f\"\"\"You are a financial analyst with expertise in sentiment analysis of financial statements.\n",
        "Consider market impact, financial metrics, and industry context.\n",
        "Statement: \"{text}\"\n",
        "Task: Classify as Positive/Negative/Neutral based on financial implications.\"\"\",\n",
        "\n",
        "        \"step_by_step\": f\"\"\"As a financial sentiment expert, analyze this statement step by step:\n",
        "1. Statement: \"{text}\"\n",
        "2. Identify key financial indicators\n",
        "3. Evaluate market impact\n",
        "4. Consider industry context\n",
        "Classification (Positive/Negative/Neutral):\"\"\",\n",
        "\n",
        "        \"criteria_based\": f\"\"\"Expert Financial Sentiment Analysis\n",
        "Statement: \"{text}\"\n",
        "Criteria to consider:\n",
        "- Revenue/Profit trends\n",
        "- Market position changes\n",
        "- Operational efficiency\n",
        "- Growth indicators\n",
        "Based on these criteria, classify as Positive/Negative/Neutral.\"\"\",\n",
        "\n",
        "        \"comparative\": f\"\"\"As a financial expert, evaluate this statement in context:\n",
        "Statement: \"{text}\"\n",
        "Compare with standard financial metrics:\n",
        "- Above expectations → Positive\n",
        "- Meeting expectations → Neutral\n",
        "- Below expectations → Negative\n",
        "Classification:\"\"\"\n",
        "    }\n",
        "    return prompts.get(version, prompts[\"base\"])"
      ]
    },
    {
      "cell_type": "code",
      "execution_count": null,
      "metadata": {
        "colab": {
          "base_uri": "https://localhost:8080/"
        },
        "id": "1iHE_IfAkPhE",
        "outputId": "c9301b15-8c8d-4078-a8db-7579d9910d00"
      },
      "outputs": [
        {
          "name": "stdout",
          "output_type": "stream",
          "text": [
            "Loading and preparing data...\n",
            "Loading mrm8488/distilroberta-finetuned-financial-news-sentiment-analysis...\n",
            "\n",
            "Testing instruction prompt version: base\n",
            "\n",
            "Example prompt:\n",
            "You are a financial sentiment expert. Classify this statement:\n",
            "\"contract value amounts eur 24 million\"\n",
            "Explain reasoning.\n",
            "Accuracy: 0.9095\n",
            "\n",
            "Testing instruction prompt version: detailed\n",
            "\n",
            "Example prompt:\n",
            "You are a financial analyst with expertise in sentiment analysis of financial statements. \n",
            "Consider market impact, financial metrics, and industry context.\n",
            "Statement: \"contract value amounts eur 24 million\"\n",
            "Task: Classify as Positive/Negative/Neutral based on financial implications.\n",
            "Accuracy: 0.8631\n",
            "\n",
            "Testing instruction prompt version: step_by_step\n",
            "\n",
            "Example prompt:\n",
            "As a financial sentiment expert, analyze this statement step by step:\n",
            "1. Statement: \"contract value amounts eur 24 million\"\n",
            "2. Identify key financial indicators\n",
            "3. Evaluate market impact\n",
            "4. Consider industry context\n",
            "Classification (Positive/Negative/Neutral):\n",
            "Accuracy: 0.8587\n",
            "\n",
            "Testing instruction prompt version: criteria_based\n",
            "\n",
            "Example prompt:\n",
            "Expert Financial Sentiment Analysis\n",
            "Statement: \"contract value amounts eur 24 million\"\n",
            "Criteria to consider:\n",
            "- Revenue/Profit trends\n",
            "- Market position changes\n",
            "- Operational efficiency\n",
            "- Growth indicators\n",
            "Based on these criteria, classify as Positive/Negative/Neutral.\n",
            "Accuracy: 0.9073\n",
            "\n",
            "Testing instruction prompt version: comparative\n",
            "\n",
            "Example prompt:\n",
            "As a financial expert, evaluate this statement in context:\n",
            "Statement: \"contract value amounts eur 24 million\"\n",
            "Compare with standard financial metrics:\n",
            "- Above expectations → Positive\n",
            "- Meeting expectations → Neutral\n",
            "- Below expectations → Negative\n",
            "Classification:\n",
            "Accuracy: 0.8896\n"
          ]
        }
      ],
      "source": [
        "def test_instruction_prompts(classifier, test_data):\n",
        "    prompt_versions = [\"base\", \"detailed\", \"step_by_step\", \"criteria_based\", \"comparative\"]\n",
        "    results = {}\n",
        "\n",
        "    for version in prompt_versions:\n",
        "        print(f\"\\nTesting instruction prompt version: {version}\")\n",
        "        predictions = []\n",
        "\n",
        "        example_text = test_data['text'].iloc[0]\n",
        "        prompt = create_instruction_prompt(example_text, version)\n",
        "        print(\"\\nExample prompt:\")\n",
        "        print(prompt)\n",
        "\n",
        "        for text in test_data['text']:\n",
        "            prompt = create_instruction_prompt(text, version)\n",
        "            pred = classifier(prompt)\n",
        "            predictions.append(pred[0])\n",
        "\n",
        "        accuracy = evaluate_predictions(predictions, test_data['label'].values)\n",
        "        results[version] = accuracy\n",
        "        print(f\"Accuracy: {accuracy['accuracy']:.4f}\")\n",
        "\n",
        "    return results\n",
        "print(\"Loading and preparing data...\")\n",
        "train_data, test_data = prepare_data(data)\n",
        "model_name = \"mrm8488/distilroberta-finetuned-financial-news-sentiment-analysis\"\n",
        "classifier = load_model(model_name)\n",
        "results = test_instruction_prompts(classifier, test_data)\n"
      ]
    },
    {
      "cell_type": "code",
      "execution_count": null,
      "metadata": {
        "colab": {
          "background_save": true,
          "base_uri": "https://localhost:8080/"
        },
        "id": "dB9nvz_LbeJ6",
        "outputId": "c09a5181-17f6-46a3-b01b-783dcff27759"
      },
      "outputs": [
        {
          "name": "stdout",
          "output_type": "stream",
          "text": [
            "Loading and preparing data...\n",
            "Loading ProsusAI/finbert...\n",
            "\n",
            "Testing instruction prompt version: base\n",
            "\n",
            "Example prompt:\n",
            "You are a financial sentiment expert. Classify this statement:\n",
            "\"contract value amounts eur 24 million\"\n",
            "Explain reasoning.\n",
            "Accuracy: 0.7351\n",
            "\n",
            "Testing instruction prompt version: detailed\n",
            "\n",
            "Example prompt:\n",
            "You are a financial analyst with expertise in sentiment analysis of financial statements. \n",
            "Consider market impact, financial metrics, and industry context.\n",
            "Statement: \"contract value amounts eur 24 million\"\n",
            "Task: Classify as Positive/Negative/Neutral based on financial implications.\n",
            "Accuracy: 0.7616\n",
            "\n",
            "Testing instruction prompt version: step_by_step\n",
            "\n",
            "Example prompt:\n",
            "As a financial sentiment expert, analyze this statement step by step:\n",
            "1. Statement: \"contract value amounts eur 24 million\"\n",
            "2. Identify key financial indicators\n",
            "3. Evaluate market impact\n",
            "4. Consider industry context\n",
            "Classification (Positive/Negative/Neutral):\n",
            "Accuracy: 0.6490\n",
            "\n",
            "Testing instruction prompt version: criteria_based\n",
            "\n",
            "Example prompt:\n",
            "Expert Financial Sentiment Analysis\n",
            "Statement: \"contract value amounts eur 24 million\"\n",
            "Criteria to consider:\n",
            "- Revenue/Profit trends\n",
            "- Market position changes\n",
            "- Operational efficiency\n",
            "- Growth indicators\n",
            "Based on these criteria, classify as Positive/Negative/Neutral.\n",
            "Accuracy: 0.6843\n",
            "\n",
            "Testing instruction prompt version: comparative\n",
            "\n",
            "Example prompt:\n",
            "As a financial expert, evaluate this statement in context:\n",
            "Statement: \"contract value amounts eur 24 million\"\n",
            "Compare with standard financial metrics:\n",
            "- Above expectations → Positive\n",
            "- Meeting expectations → Neutral\n",
            "- Below expectations → Negative\n",
            "Classification:\n",
            "Accuracy: 0.7064\n"
          ]
        }
      ],
      "source": [
        "print(\"Loading and preparing data...\")\n",
        "train_data, test_data = prepare_data(data)\n",
        "model_name = \"ProsusAI/finbert\"\n",
        "\n",
        "classifier = load_model(model_name)\n",
        "results = test_instruction_prompts(classifier, test_data)\n"
      ]
    }
  ],
  "metadata": {
    "colab": {
      "provenance": []
    },
    "kernelspec": {
      "display_name": "base",
      "language": "python",
      "name": "python3"
    },
    "language_info": {
      "codemirror_mode": {
        "name": "ipython",
        "version": 3
      },
      "file_extension": ".py",
      "mimetype": "text/x-python",
      "name": "python",
      "nbconvert_exporter": "python",
      "pygments_lexer": "ipython3",
      "version": "3.12.4"
    },
    "widgets": {
      "application/vnd.jupyter.widget-state+json": {
        "03477531be9b4deab0f2bcd729df9997": {
          "model_module": "@jupyter-widgets/base",
          "model_module_version": "1.2.0",
          "model_name": "LayoutModel",
          "state": {
            "_model_module": "@jupyter-widgets/base",
            "_model_module_version": "1.2.0",
            "_model_name": "LayoutModel",
            "_view_count": null,
            "_view_module": "@jupyter-widgets/base",
            "_view_module_version": "1.2.0",
            "_view_name": "LayoutView",
            "align_content": null,
            "align_items": null,
            "align_self": null,
            "border": null,
            "bottom": null,
            "display": null,
            "flex": null,
            "flex_flow": null,
            "grid_area": null,
            "grid_auto_columns": null,
            "grid_auto_flow": null,
            "grid_auto_rows": null,
            "grid_column": null,
            "grid_gap": null,
            "grid_row": null,
            "grid_template_areas": null,
            "grid_template_columns": null,
            "grid_template_rows": null,
            "height": null,
            "justify_content": null,
            "justify_items": null,
            "left": null,
            "margin": null,
            "max_height": null,
            "max_width": null,
            "min_height": null,
            "min_width": null,
            "object_fit": null,
            "object_position": null,
            "order": null,
            "overflow": null,
            "overflow_x": null,
            "overflow_y": null,
            "padding": null,
            "right": null,
            "top": null,
            "visibility": null,
            "width": null
          }
        },
        "0a557091d9104a9a8ff092fe598a7e67": {
          "model_module": "@jupyter-widgets/controls",
          "model_module_version": "1.5.0",
          "model_name": "FloatProgressModel",
          "state": {
            "_dom_classes": [],
            "_model_module": "@jupyter-widgets/controls",
            "_model_module_version": "1.5.0",
            "_model_name": "FloatProgressModel",
            "_view_count": null,
            "_view_module": "@jupyter-widgets/controls",
            "_view_module_version": "1.5.0",
            "_view_name": "ProgressView",
            "bar_style": "success",
            "description": "",
            "description_tooltip": null,
            "layout": "IPY_MODEL_f9922b1c0267448a985e7f8d1a26ea2c",
            "max": 439101405,
            "min": 0,
            "orientation": "horizontal",
            "style": "IPY_MODEL_f05a914081d14838b5696fb36afe2cf8",
            "value": 439101405
          }
        },
        "13b9123d392d44acac9d080057a8118c": {
          "model_module": "@jupyter-widgets/base",
          "model_module_version": "1.2.0",
          "model_name": "LayoutModel",
          "state": {
            "_model_module": "@jupyter-widgets/base",
            "_model_module_version": "1.2.0",
            "_model_name": "LayoutModel",
            "_view_count": null,
            "_view_module": "@jupyter-widgets/base",
            "_view_module_version": "1.2.0",
            "_view_name": "LayoutView",
            "align_content": null,
            "align_items": null,
            "align_self": null,
            "border": null,
            "bottom": null,
            "display": null,
            "flex": null,
            "flex_flow": null,
            "grid_area": null,
            "grid_auto_columns": null,
            "grid_auto_flow": null,
            "grid_auto_rows": null,
            "grid_column": null,
            "grid_gap": null,
            "grid_row": null,
            "grid_template_areas": null,
            "grid_template_columns": null,
            "grid_template_rows": null,
            "height": null,
            "justify_content": null,
            "justify_items": null,
            "left": null,
            "margin": null,
            "max_height": null,
            "max_width": null,
            "min_height": null,
            "min_width": null,
            "object_fit": null,
            "object_position": null,
            "order": null,
            "overflow": null,
            "overflow_x": null,
            "overflow_y": null,
            "padding": null,
            "right": null,
            "top": null,
            "visibility": null,
            "width": null
          }
        },
        "15e8a13094fd4e4fbd993bf1c848ad5f": {
          "model_module": "@jupyter-widgets/controls",
          "model_module_version": "1.5.0",
          "model_name": "DescriptionStyleModel",
          "state": {
            "_model_module": "@jupyter-widgets/controls",
            "_model_module_version": "1.5.0",
            "_model_name": "DescriptionStyleModel",
            "_view_count": null,
            "_view_module": "@jupyter-widgets/base",
            "_view_module_version": "1.2.0",
            "_view_name": "StyleView",
            "description_width": ""
          }
        },
        "209986b3cb5b4df7888737ae5187a406": {
          "model_module": "@jupyter-widgets/controls",
          "model_module_version": "1.5.0",
          "model_name": "HTMLModel",
          "state": {
            "_dom_classes": [],
            "_model_module": "@jupyter-widgets/controls",
            "_model_module_version": "1.5.0",
            "_model_name": "HTMLModel",
            "_view_count": null,
            "_view_module": "@jupyter-widgets/controls",
            "_view_module_version": "1.5.0",
            "_view_name": "HTMLView",
            "description": "",
            "description_tooltip": null,
            "layout": "IPY_MODEL_279a6cf535254d54867f69a7b6a38a3d",
            "placeholder": "​",
            "style": "IPY_MODEL_e0780249d6ca486d9915f3d84a4020f4",
            "value": "config.json: 100%"
          }
        },
        "260c5acee02545a1a7d5a98fa84d1ec5": {
          "model_module": "@jupyter-widgets/controls",
          "model_module_version": "1.5.0",
          "model_name": "HTMLModel",
          "state": {
            "_dom_classes": [],
            "_model_module": "@jupyter-widgets/controls",
            "_model_module_version": "1.5.0",
            "_model_name": "HTMLModel",
            "_view_count": null,
            "_view_module": "@jupyter-widgets/controls",
            "_view_module_version": "1.5.0",
            "_view_name": "HTMLView",
            "description": "",
            "description_tooltip": null,
            "layout": "IPY_MODEL_6499e6fc6a694fbc8985ae81e6561342",
            "placeholder": "​",
            "style": "IPY_MODEL_d4da79b8fed94d1d86c4c7ee64b48ae1",
            "value": " 226k/226k [00:00&lt;00:00, 6.22MB/s]"
          }
        },
        "279a6cf535254d54867f69a7b6a38a3d": {
          "model_module": "@jupyter-widgets/base",
          "model_module_version": "1.2.0",
          "model_name": "LayoutModel",
          "state": {
            "_model_module": "@jupyter-widgets/base",
            "_model_module_version": "1.2.0",
            "_model_name": "LayoutModel",
            "_view_count": null,
            "_view_module": "@jupyter-widgets/base",
            "_view_module_version": "1.2.0",
            "_view_name": "LayoutView",
            "align_content": null,
            "align_items": null,
            "align_self": null,
            "border": null,
            "bottom": null,
            "display": null,
            "flex": null,
            "flex_flow": null,
            "grid_area": null,
            "grid_auto_columns": null,
            "grid_auto_flow": null,
            "grid_auto_rows": null,
            "grid_column": null,
            "grid_gap": null,
            "grid_row": null,
            "grid_template_areas": null,
            "grid_template_columns": null,
            "grid_template_rows": null,
            "height": null,
            "justify_content": null,
            "justify_items": null,
            "left": null,
            "margin": null,
            "max_height": null,
            "max_width": null,
            "min_height": null,
            "min_width": null,
            "object_fit": null,
            "object_position": null,
            "order": null,
            "overflow": null,
            "overflow_x": null,
            "overflow_y": null,
            "padding": null,
            "right": null,
            "top": null,
            "visibility": null,
            "width": null
          }
        },
        "2c41dad34be54152aeaa4049ca10bbf9": {
          "model_module": "@jupyter-widgets/controls",
          "model_module_version": "1.5.0",
          "model_name": "HBoxModel",
          "state": {
            "_dom_classes": [],
            "_model_module": "@jupyter-widgets/controls",
            "_model_module_version": "1.5.0",
            "_model_name": "HBoxModel",
            "_view_count": null,
            "_view_module": "@jupyter-widgets/controls",
            "_view_module_version": "1.5.0",
            "_view_name": "HBoxView",
            "box_style": "",
            "children": [
              "IPY_MODEL_71340e8ce0f1443a89a20613ab5e700f",
              "IPY_MODEL_b097c5cf8138466eb33aa68153495265",
              "IPY_MODEL_260c5acee02545a1a7d5a98fa84d1ec5"
            ],
            "layout": "IPY_MODEL_b3b58d32ae2e418a9e8840e90496e51f"
          }
        },
        "3db97dad5d364f088df6b3864461a91c": {
          "model_module": "@jupyter-widgets/base",
          "model_module_version": "1.2.0",
          "model_name": "LayoutModel",
          "state": {
            "_model_module": "@jupyter-widgets/base",
            "_model_module_version": "1.2.0",
            "_model_name": "LayoutModel",
            "_view_count": null,
            "_view_module": "@jupyter-widgets/base",
            "_view_module_version": "1.2.0",
            "_view_name": "LayoutView",
            "align_content": null,
            "align_items": null,
            "align_self": null,
            "border": null,
            "bottom": null,
            "display": null,
            "flex": null,
            "flex_flow": null,
            "grid_area": null,
            "grid_auto_columns": null,
            "grid_auto_flow": null,
            "grid_auto_rows": null,
            "grid_column": null,
            "grid_gap": null,
            "grid_row": null,
            "grid_template_areas": null,
            "grid_template_columns": null,
            "grid_template_rows": null,
            "height": null,
            "justify_content": null,
            "justify_items": null,
            "left": null,
            "margin": null,
            "max_height": null,
            "max_width": null,
            "min_height": null,
            "min_width": null,
            "object_fit": null,
            "object_position": null,
            "order": null,
            "overflow": null,
            "overflow_x": null,
            "overflow_y": null,
            "padding": null,
            "right": null,
            "top": null,
            "visibility": null,
            "width": null
          }
        },
        "4ac86b00c2ae46d68cb51dcd02699a59": {
          "model_module": "@jupyter-widgets/base",
          "model_module_version": "1.2.0",
          "model_name": "LayoutModel",
          "state": {
            "_model_module": "@jupyter-widgets/base",
            "_model_module_version": "1.2.0",
            "_model_name": "LayoutModel",
            "_view_count": null,
            "_view_module": "@jupyter-widgets/base",
            "_view_module_version": "1.2.0",
            "_view_name": "LayoutView",
            "align_content": null,
            "align_items": null,
            "align_self": null,
            "border": null,
            "bottom": null,
            "display": null,
            "flex": null,
            "flex_flow": null,
            "grid_area": null,
            "grid_auto_columns": null,
            "grid_auto_flow": null,
            "grid_auto_rows": null,
            "grid_column": null,
            "grid_gap": null,
            "grid_row": null,
            "grid_template_areas": null,
            "grid_template_columns": null,
            "grid_template_rows": null,
            "height": null,
            "justify_content": null,
            "justify_items": null,
            "left": null,
            "margin": null,
            "max_height": null,
            "max_width": null,
            "min_height": null,
            "min_width": null,
            "object_fit": null,
            "object_position": null,
            "order": null,
            "overflow": null,
            "overflow_x": null,
            "overflow_y": null,
            "padding": null,
            "right": null,
            "top": null,
            "visibility": null,
            "width": null
          }
        },
        "6499e6fc6a694fbc8985ae81e6561342": {
          "model_module": "@jupyter-widgets/base",
          "model_module_version": "1.2.0",
          "model_name": "LayoutModel",
          "state": {
            "_model_module": "@jupyter-widgets/base",
            "_model_module_version": "1.2.0",
            "_model_name": "LayoutModel",
            "_view_count": null,
            "_view_module": "@jupyter-widgets/base",
            "_view_module_version": "1.2.0",
            "_view_name": "LayoutView",
            "align_content": null,
            "align_items": null,
            "align_self": null,
            "border": null,
            "bottom": null,
            "display": null,
            "flex": null,
            "flex_flow": null,
            "grid_area": null,
            "grid_auto_columns": null,
            "grid_auto_flow": null,
            "grid_auto_rows": null,
            "grid_column": null,
            "grid_gap": null,
            "grid_row": null,
            "grid_template_areas": null,
            "grid_template_columns": null,
            "grid_template_rows": null,
            "height": null,
            "justify_content": null,
            "justify_items": null,
            "left": null,
            "margin": null,
            "max_height": null,
            "max_width": null,
            "min_height": null,
            "min_width": null,
            "object_fit": null,
            "object_position": null,
            "order": null,
            "overflow": null,
            "overflow_x": null,
            "overflow_y": null,
            "padding": null,
            "right": null,
            "top": null,
            "visibility": null,
            "width": null
          }
        },
        "652853730eaa495ca67b9e01643247a7": {
          "model_module": "@jupyter-widgets/controls",
          "model_module_version": "1.5.0",
          "model_name": "FloatProgressModel",
          "state": {
            "_dom_classes": [],
            "_model_module": "@jupyter-widgets/controls",
            "_model_module_version": "1.5.0",
            "_model_name": "FloatProgressModel",
            "_view_count": null,
            "_view_module": "@jupyter-widgets/controls",
            "_view_module_version": "1.5.0",
            "_view_name": "ProgressView",
            "bar_style": "success",
            "description": "",
            "description_tooltip": null,
            "layout": "IPY_MODEL_830444abdda44c4f92ecaf95820a0234",
            "max": 533,
            "min": 0,
            "orientation": "horizontal",
            "style": "IPY_MODEL_6acb932ea8da49f88ff9f563b9d9affb",
            "value": 533
          }
        },
        "6acb932ea8da49f88ff9f563b9d9affb": {
          "model_module": "@jupyter-widgets/controls",
          "model_module_version": "1.5.0",
          "model_name": "ProgressStyleModel",
          "state": {
            "_model_module": "@jupyter-widgets/controls",
            "_model_module_version": "1.5.0",
            "_model_name": "ProgressStyleModel",
            "_view_count": null,
            "_view_module": "@jupyter-widgets/base",
            "_view_module_version": "1.2.0",
            "_view_name": "StyleView",
            "bar_color": null,
            "description_width": ""
          }
        },
        "6b5c831986334ba994b56098a0dc8791": {
          "model_module": "@jupyter-widgets/controls",
          "model_module_version": "1.5.0",
          "model_name": "ProgressStyleModel",
          "state": {
            "_model_module": "@jupyter-widgets/controls",
            "_model_module_version": "1.5.0",
            "_model_name": "ProgressStyleModel",
            "_view_count": null,
            "_view_module": "@jupyter-widgets/base",
            "_view_module_version": "1.2.0",
            "_view_name": "StyleView",
            "bar_color": null,
            "description_width": ""
          }
        },
        "71340e8ce0f1443a89a20613ab5e700f": {
          "model_module": "@jupyter-widgets/controls",
          "model_module_version": "1.5.0",
          "model_name": "HTMLModel",
          "state": {
            "_dom_classes": [],
            "_model_module": "@jupyter-widgets/controls",
            "_model_module_version": "1.5.0",
            "_model_name": "HTMLModel",
            "_view_count": null,
            "_view_module": "@jupyter-widgets/controls",
            "_view_module_version": "1.5.0",
            "_view_name": "HTMLView",
            "description": "",
            "description_tooltip": null,
            "layout": "IPY_MODEL_87aa38464e0746b1833e5a2ddbabf015",
            "placeholder": "​",
            "style": "IPY_MODEL_15e8a13094fd4e4fbd993bf1c848ad5f",
            "value": "vocab.txt: 100%"
          }
        },
        "7399e953e1d1497788737aaf91f792ea": {
          "model_module": "@jupyter-widgets/controls",
          "model_module_version": "1.5.0",
          "model_name": "HBoxModel",
          "state": {
            "_dom_classes": [],
            "_model_module": "@jupyter-widgets/controls",
            "_model_module_version": "1.5.0",
            "_model_name": "HBoxModel",
            "_view_count": null,
            "_view_module": "@jupyter-widgets/controls",
            "_view_module_version": "1.5.0",
            "_view_name": "HBoxView",
            "box_style": "",
            "children": [
              "IPY_MODEL_f68872567ec8461bb51f148b2394e24b",
              "IPY_MODEL_0a557091d9104a9a8ff092fe598a7e67",
              "IPY_MODEL_a449dbeb4f31448a94cac07c285756e4"
            ],
            "layout": "IPY_MODEL_3db97dad5d364f088df6b3864461a91c"
          }
        },
        "74d3e446f53d413294d01ba903b49a2f": {
          "model_module": "@jupyter-widgets/controls",
          "model_module_version": "1.5.0",
          "model_name": "HTMLModel",
          "state": {
            "_dom_classes": [],
            "_model_module": "@jupyter-widgets/controls",
            "_model_module_version": "1.5.0",
            "_model_name": "HTMLModel",
            "_view_count": null,
            "_view_module": "@jupyter-widgets/controls",
            "_view_module_version": "1.5.0",
            "_view_name": "HTMLView",
            "description": "",
            "description_tooltip": null,
            "layout": "IPY_MODEL_8d9201abddbd46b7b8078af3fa5fbbec",
            "placeholder": "​",
            "style": "IPY_MODEL_95f45bfecd3f4b5f8d818762dca29977",
            "value": " 533/533 [00:00&lt;00:00, 29.2kB/s]"
          }
        },
        "830444abdda44c4f92ecaf95820a0234": {
          "model_module": "@jupyter-widgets/base",
          "model_module_version": "1.2.0",
          "model_name": "LayoutModel",
          "state": {
            "_model_module": "@jupyter-widgets/base",
            "_model_module_version": "1.2.0",
            "_model_name": "LayoutModel",
            "_view_count": null,
            "_view_module": "@jupyter-widgets/base",
            "_view_module_version": "1.2.0",
            "_view_name": "LayoutView",
            "align_content": null,
            "align_items": null,
            "align_self": null,
            "border": null,
            "bottom": null,
            "display": null,
            "flex": null,
            "flex_flow": null,
            "grid_area": null,
            "grid_auto_columns": null,
            "grid_auto_flow": null,
            "grid_auto_rows": null,
            "grid_column": null,
            "grid_gap": null,
            "grid_row": null,
            "grid_template_areas": null,
            "grid_template_columns": null,
            "grid_template_rows": null,
            "height": null,
            "justify_content": null,
            "justify_items": null,
            "left": null,
            "margin": null,
            "max_height": null,
            "max_width": null,
            "min_height": null,
            "min_width": null,
            "object_fit": null,
            "object_position": null,
            "order": null,
            "overflow": null,
            "overflow_x": null,
            "overflow_y": null,
            "padding": null,
            "right": null,
            "top": null,
            "visibility": null,
            "width": null
          }
        },
        "87aa38464e0746b1833e5a2ddbabf015": {
          "model_module": "@jupyter-widgets/base",
          "model_module_version": "1.2.0",
          "model_name": "LayoutModel",
          "state": {
            "_model_module": "@jupyter-widgets/base",
            "_model_module_version": "1.2.0",
            "_model_name": "LayoutModel",
            "_view_count": null,
            "_view_module": "@jupyter-widgets/base",
            "_view_module_version": "1.2.0",
            "_view_name": "LayoutView",
            "align_content": null,
            "align_items": null,
            "align_self": null,
            "border": null,
            "bottom": null,
            "display": null,
            "flex": null,
            "flex_flow": null,
            "grid_area": null,
            "grid_auto_columns": null,
            "grid_auto_flow": null,
            "grid_auto_rows": null,
            "grid_column": null,
            "grid_gap": null,
            "grid_row": null,
            "grid_template_areas": null,
            "grid_template_columns": null,
            "grid_template_rows": null,
            "height": null,
            "justify_content": null,
            "justify_items": null,
            "left": null,
            "margin": null,
            "max_height": null,
            "max_width": null,
            "min_height": null,
            "min_width": null,
            "object_fit": null,
            "object_position": null,
            "order": null,
            "overflow": null,
            "overflow_x": null,
            "overflow_y": null,
            "padding": null,
            "right": null,
            "top": null,
            "visibility": null,
            "width": null
          }
        },
        "8d9201abddbd46b7b8078af3fa5fbbec": {
          "model_module": "@jupyter-widgets/base",
          "model_module_version": "1.2.0",
          "model_name": "LayoutModel",
          "state": {
            "_model_module": "@jupyter-widgets/base",
            "_model_module_version": "1.2.0",
            "_model_name": "LayoutModel",
            "_view_count": null,
            "_view_module": "@jupyter-widgets/base",
            "_view_module_version": "1.2.0",
            "_view_name": "LayoutView",
            "align_content": null,
            "align_items": null,
            "align_self": null,
            "border": null,
            "bottom": null,
            "display": null,
            "flex": null,
            "flex_flow": null,
            "grid_area": null,
            "grid_auto_columns": null,
            "grid_auto_flow": null,
            "grid_auto_rows": null,
            "grid_column": null,
            "grid_gap": null,
            "grid_row": null,
            "grid_template_areas": null,
            "grid_template_columns": null,
            "grid_template_rows": null,
            "height": null,
            "justify_content": null,
            "justify_items": null,
            "left": null,
            "margin": null,
            "max_height": null,
            "max_width": null,
            "min_height": null,
            "min_width": null,
            "object_fit": null,
            "object_position": null,
            "order": null,
            "overflow": null,
            "overflow_x": null,
            "overflow_y": null,
            "padding": null,
            "right": null,
            "top": null,
            "visibility": null,
            "width": null
          }
        },
        "95f45bfecd3f4b5f8d818762dca29977": {
          "model_module": "@jupyter-widgets/controls",
          "model_module_version": "1.5.0",
          "model_name": "DescriptionStyleModel",
          "state": {
            "_model_module": "@jupyter-widgets/controls",
            "_model_module_version": "1.5.0",
            "_model_name": "DescriptionStyleModel",
            "_view_count": null,
            "_view_module": "@jupyter-widgets/base",
            "_view_module_version": "1.2.0",
            "_view_name": "StyleView",
            "description_width": ""
          }
        },
        "a449dbeb4f31448a94cac07c285756e4": {
          "model_module": "@jupyter-widgets/controls",
          "model_module_version": "1.5.0",
          "model_name": "HTMLModel",
          "state": {
            "_dom_classes": [],
            "_model_module": "@jupyter-widgets/controls",
            "_model_module_version": "1.5.0",
            "_model_name": "HTMLModel",
            "_view_count": null,
            "_view_module": "@jupyter-widgets/controls",
            "_view_module_version": "1.5.0",
            "_view_name": "HTMLView",
            "description": "",
            "description_tooltip": null,
            "layout": "IPY_MODEL_d795fbc323e34c1eb0d1fb9a36be201f",
            "placeholder": "​",
            "style": "IPY_MODEL_ee214f4df9a34837a69059d23a4fedc0",
            "value": " 439M/439M [00:09&lt;00:00, 25.4MB/s]"
          }
        },
        "b097c5cf8138466eb33aa68153495265": {
          "model_module": "@jupyter-widgets/controls",
          "model_module_version": "1.5.0",
          "model_name": "FloatProgressModel",
          "state": {
            "_dom_classes": [],
            "_model_module": "@jupyter-widgets/controls",
            "_model_module_version": "1.5.0",
            "_model_name": "FloatProgressModel",
            "_view_count": null,
            "_view_module": "@jupyter-widgets/controls",
            "_view_module_version": "1.5.0",
            "_view_name": "ProgressView",
            "bar_style": "success",
            "description": "",
            "description_tooltip": null,
            "layout": "IPY_MODEL_4ac86b00c2ae46d68cb51dcd02699a59",
            "max": 226122,
            "min": 0,
            "orientation": "horizontal",
            "style": "IPY_MODEL_6b5c831986334ba994b56098a0dc8791",
            "value": 226122
          }
        },
        "b3b58d32ae2e418a9e8840e90496e51f": {
          "model_module": "@jupyter-widgets/base",
          "model_module_version": "1.2.0",
          "model_name": "LayoutModel",
          "state": {
            "_model_module": "@jupyter-widgets/base",
            "_model_module_version": "1.2.0",
            "_model_name": "LayoutModel",
            "_view_count": null,
            "_view_module": "@jupyter-widgets/base",
            "_view_module_version": "1.2.0",
            "_view_name": "LayoutView",
            "align_content": null,
            "align_items": null,
            "align_self": null,
            "border": null,
            "bottom": null,
            "display": null,
            "flex": null,
            "flex_flow": null,
            "grid_area": null,
            "grid_auto_columns": null,
            "grid_auto_flow": null,
            "grid_auto_rows": null,
            "grid_column": null,
            "grid_gap": null,
            "grid_row": null,
            "grid_template_areas": null,
            "grid_template_columns": null,
            "grid_template_rows": null,
            "height": null,
            "justify_content": null,
            "justify_items": null,
            "left": null,
            "margin": null,
            "max_height": null,
            "max_width": null,
            "min_height": null,
            "min_width": null,
            "object_fit": null,
            "object_position": null,
            "order": null,
            "overflow": null,
            "overflow_x": null,
            "overflow_y": null,
            "padding": null,
            "right": null,
            "top": null,
            "visibility": null,
            "width": null
          }
        },
        "cf46ab5749bc4e69a6d7f4610511d0ab": {
          "model_module": "@jupyter-widgets/controls",
          "model_module_version": "1.5.0",
          "model_name": "DescriptionStyleModel",
          "state": {
            "_model_module": "@jupyter-widgets/controls",
            "_model_module_version": "1.5.0",
            "_model_name": "DescriptionStyleModel",
            "_view_count": null,
            "_view_module": "@jupyter-widgets/base",
            "_view_module_version": "1.2.0",
            "_view_name": "StyleView",
            "description_width": ""
          }
        },
        "d4da79b8fed94d1d86c4c7ee64b48ae1": {
          "model_module": "@jupyter-widgets/controls",
          "model_module_version": "1.5.0",
          "model_name": "DescriptionStyleModel",
          "state": {
            "_model_module": "@jupyter-widgets/controls",
            "_model_module_version": "1.5.0",
            "_model_name": "DescriptionStyleModel",
            "_view_count": null,
            "_view_module": "@jupyter-widgets/base",
            "_view_module_version": "1.2.0",
            "_view_name": "StyleView",
            "description_width": ""
          }
        },
        "d795fbc323e34c1eb0d1fb9a36be201f": {
          "model_module": "@jupyter-widgets/base",
          "model_module_version": "1.2.0",
          "model_name": "LayoutModel",
          "state": {
            "_model_module": "@jupyter-widgets/base",
            "_model_module_version": "1.2.0",
            "_model_name": "LayoutModel",
            "_view_count": null,
            "_view_module": "@jupyter-widgets/base",
            "_view_module_version": "1.2.0",
            "_view_name": "LayoutView",
            "align_content": null,
            "align_items": null,
            "align_self": null,
            "border": null,
            "bottom": null,
            "display": null,
            "flex": null,
            "flex_flow": null,
            "grid_area": null,
            "grid_auto_columns": null,
            "grid_auto_flow": null,
            "grid_auto_rows": null,
            "grid_column": null,
            "grid_gap": null,
            "grid_row": null,
            "grid_template_areas": null,
            "grid_template_columns": null,
            "grid_template_rows": null,
            "height": null,
            "justify_content": null,
            "justify_items": null,
            "left": null,
            "margin": null,
            "max_height": null,
            "max_width": null,
            "min_height": null,
            "min_width": null,
            "object_fit": null,
            "object_position": null,
            "order": null,
            "overflow": null,
            "overflow_x": null,
            "overflow_y": null,
            "padding": null,
            "right": null,
            "top": null,
            "visibility": null,
            "width": null
          }
        },
        "e0780249d6ca486d9915f3d84a4020f4": {
          "model_module": "@jupyter-widgets/controls",
          "model_module_version": "1.5.0",
          "model_name": "DescriptionStyleModel",
          "state": {
            "_model_module": "@jupyter-widgets/controls",
            "_model_module_version": "1.5.0",
            "_model_name": "DescriptionStyleModel",
            "_view_count": null,
            "_view_module": "@jupyter-widgets/base",
            "_view_module_version": "1.2.0",
            "_view_name": "StyleView",
            "description_width": ""
          }
        },
        "ee214f4df9a34837a69059d23a4fedc0": {
          "model_module": "@jupyter-widgets/controls",
          "model_module_version": "1.5.0",
          "model_name": "DescriptionStyleModel",
          "state": {
            "_model_module": "@jupyter-widgets/controls",
            "_model_module_version": "1.5.0",
            "_model_name": "DescriptionStyleModel",
            "_view_count": null,
            "_view_module": "@jupyter-widgets/base",
            "_view_module_version": "1.2.0",
            "_view_name": "StyleView",
            "description_width": ""
          }
        },
        "eec696daf77b4d5089e85b6ec471088a": {
          "model_module": "@jupyter-widgets/controls",
          "model_module_version": "1.5.0",
          "model_name": "HBoxModel",
          "state": {
            "_dom_classes": [],
            "_model_module": "@jupyter-widgets/controls",
            "_model_module_version": "1.5.0",
            "_model_name": "HBoxModel",
            "_view_count": null,
            "_view_module": "@jupyter-widgets/controls",
            "_view_module_version": "1.5.0",
            "_view_name": "HBoxView",
            "box_style": "",
            "children": [
              "IPY_MODEL_209986b3cb5b4df7888737ae5187a406",
              "IPY_MODEL_652853730eaa495ca67b9e01643247a7",
              "IPY_MODEL_74d3e446f53d413294d01ba903b49a2f"
            ],
            "layout": "IPY_MODEL_03477531be9b4deab0f2bcd729df9997"
          }
        },
        "f05a914081d14838b5696fb36afe2cf8": {
          "model_module": "@jupyter-widgets/controls",
          "model_module_version": "1.5.0",
          "model_name": "ProgressStyleModel",
          "state": {
            "_model_module": "@jupyter-widgets/controls",
            "_model_module_version": "1.5.0",
            "_model_name": "ProgressStyleModel",
            "_view_count": null,
            "_view_module": "@jupyter-widgets/base",
            "_view_module_version": "1.2.0",
            "_view_name": "StyleView",
            "bar_color": null,
            "description_width": ""
          }
        },
        "f68872567ec8461bb51f148b2394e24b": {
          "model_module": "@jupyter-widgets/controls",
          "model_module_version": "1.5.0",
          "model_name": "HTMLModel",
          "state": {
            "_dom_classes": [],
            "_model_module": "@jupyter-widgets/controls",
            "_model_module_version": "1.5.0",
            "_model_name": "HTMLModel",
            "_view_count": null,
            "_view_module": "@jupyter-widgets/controls",
            "_view_module_version": "1.5.0",
            "_view_name": "HTMLView",
            "description": "",
            "description_tooltip": null,
            "layout": "IPY_MODEL_13b9123d392d44acac9d080057a8118c",
            "placeholder": "​",
            "style": "IPY_MODEL_cf46ab5749bc4e69a6d7f4610511d0ab",
            "value": "pytorch_model.bin: 100%"
          }
        },
        "f9922b1c0267448a985e7f8d1a26ea2c": {
          "model_module": "@jupyter-widgets/base",
          "model_module_version": "1.2.0",
          "model_name": "LayoutModel",
          "state": {
            "_model_module": "@jupyter-widgets/base",
            "_model_module_version": "1.2.0",
            "_model_name": "LayoutModel",
            "_view_count": null,
            "_view_module": "@jupyter-widgets/base",
            "_view_module_version": "1.2.0",
            "_view_name": "LayoutView",
            "align_content": null,
            "align_items": null,
            "align_self": null,
            "border": null,
            "bottom": null,
            "display": null,
            "flex": null,
            "flex_flow": null,
            "grid_area": null,
            "grid_auto_columns": null,
            "grid_auto_flow": null,
            "grid_auto_rows": null,
            "grid_column": null,
            "grid_gap": null,
            "grid_row": null,
            "grid_template_areas": null,
            "grid_template_columns": null,
            "grid_template_rows": null,
            "height": null,
            "justify_content": null,
            "justify_items": null,
            "left": null,
            "margin": null,
            "max_height": null,
            "max_width": null,
            "min_height": null,
            "min_width": null,
            "object_fit": null,
            "object_position": null,
            "order": null,
            "overflow": null,
            "overflow_x": null,
            "overflow_y": null,
            "padding": null,
            "right": null,
            "top": null,
            "visibility": null,
            "width": null
          }
        }
      }
    }
  },
  "nbformat": 4,
  "nbformat_minor": 0
}
